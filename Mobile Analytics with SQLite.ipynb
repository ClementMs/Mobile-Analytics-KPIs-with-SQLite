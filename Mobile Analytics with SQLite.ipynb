{
 "cells": [
  {
   "cell_type": "markdown",
   "metadata": {},
   "source": [
    "# Table of Content"
   ]
  },
  {
   "cell_type": "markdown",
   "metadata": {},
   "source": [
    "## I) <a href='#first_part'> Description of the Mobile App Database</a>\n",
    "## II) <a href='#second_part'>Conversion Rates</a>\n",
    "### A) <a href='#subpart_one_second_part'>Overall Conversion Rate</a>\n",
    "### B) <a href='#subpart_two_second_part'>Conversion Rate at D+28 </a>\n",
    "### C) <a href='#subpart_three_second_part'>Cohort Conversion Rates</a>\n",
    "#### 1) <a href='#subsubpart_one_subpart_three_second_part'>Conversion Rates at D+28 by Gender and Device</a>\n",
    "#### 2) <a href='#subsubpart_two_subpart_three_second_part'>Conversion Rates at D+28 by Country</a>\n",
    "## III) <a href='#third_part'>Average Purchase Prices</a>\n",
    "### A) <a href='#subpart_one_third_part'>Overall Average Purchase Price</a>\n",
    "### B) <a href='#subpart_two_third_part'>Average Purchase Price at D+28</a>\n",
    "### C) <a href='#subpart_three_third_part'>Cohort Average Purchase Prices</a>\n",
    "#### 1) <a href='#subsubpart_one_subpart_three_third_part'>Average Purchase Prices at D+28 by Gender and Device</a>\n",
    "#### 2) <a href='#subsubpart_two_subpart_three_third_part'>Average Purchase Prices at D+28 by Country</a>"
   ]
  },
  {
   "cell_type": "markdown",
   "metadata": {},
   "source": [
    "## I) <a id='#first_part'> Description of the Mobile App Database</a>"
   ]
  },
  {
   "cell_type": "code",
   "execution_count": 1,
   "metadata": {
    "collapsed": true
   },
   "outputs": [],
   "source": [
    "import pandas as pd\n",
    "import sqlite3"
   ]
  },
  {
   "cell_type": "code",
   "execution_count": 2,
   "metadata": {
    "collapsed": true
   },
   "outputs": [],
   "source": [
    "def run_query(q):\n",
    "    with sqlite3.connect('meditation_app.db') as conn:\n",
    "        return pd.read_sql(q, conn)"
   ]
  },
  {
   "cell_type": "code",
   "execution_count": 3,
   "metadata": {
    "collapsed": true
   },
   "outputs": [],
   "source": [
    "def show_tables():\n",
    "    return run_query('''\n",
    "    SELECT\n",
    "    name,\n",
    "    type\n",
    "    FROM sqlite_master\n",
    "    WHERE type IN (\"table\",\"view\");\n",
    "    ''')"
   ]
  },
  {
   "cell_type": "code",
   "execution_count": 4,
   "metadata": {
    "scrolled": true
   },
   "outputs": [
    {
     "data": {
      "text/html": [
       "<div>\n",
       "<style scoped>\n",
       "    .dataframe tbody tr th:only-of-type {\n",
       "        vertical-align: middle;\n",
       "    }\n",
       "\n",
       "    .dataframe tbody tr th {\n",
       "        vertical-align: top;\n",
       "    }\n",
       "\n",
       "    .dataframe thead th {\n",
       "        text-align: right;\n",
       "    }\n",
       "</style>\n",
       "<table border=\"1\" class=\"dataframe\">\n",
       "  <thead>\n",
       "    <tr style=\"text-align: right;\">\n",
       "      <th></th>\n",
       "      <th>name</th>\n",
       "      <th>type</th>\n",
       "    </tr>\n",
       "  </thead>\n",
       "  <tbody>\n",
       "    <tr>\n",
       "      <th>0</th>\n",
       "      <td>customer_table</td>\n",
       "      <td>table</td>\n",
       "    </tr>\n",
       "    <tr>\n",
       "      <th>1</th>\n",
       "      <td>app_purchase_table</td>\n",
       "      <td>table</td>\n",
       "    </tr>\n",
       "  </tbody>\n",
       "</table>\n",
       "</div>"
      ],
      "text/plain": [
       "                 name   type\n",
       "0      customer_table  table\n",
       "1  app_purchase_table  table"
      ]
     },
     "execution_count": 4,
     "metadata": {},
     "output_type": "execute_result"
    }
   ],
   "source": [
    "show_tables()"
   ]
  },
  {
   "cell_type": "markdown",
   "metadata": {},
   "source": [
    "According to the data scientist Ryan Grossman on DataCamp, the mobile app, from which we extracted the customer data, is a meditation app, which is monetized with in-app purchases (IAP)."
   ]
  },
  {
   "cell_type": "markdown",
   "metadata": {},
   "source": [
    "The table customer_table contains the following fields: \n",
    "\n",
    "- uid = unique id associated with each customer\n",
    "\n",
    "\n",
    "- reg_date = registration date of the customer\n",
    "\n",
    "\n",
    "- device = device with which the customer registrated on the mobile app (Android or iOS)\n",
    "\n",
    "\n",
    "- gender = gender of the customer\n",
    "\n",
    "\n",
    "- country = country of origin of the customer\n",
    "\n",
    "\n",
    "- age = age of the customer"
   ]
  },
  {
   "cell_type": "markdown",
   "metadata": {},
   "source": [
    "The table app_purchase_table contains the following fields: \n",
    "\n",
    "- uid = unique id associated with each customer\n",
    "\n",
    "\n",
    "- date = purchase date\n",
    "\n",
    "\n",
    "- sku = purchase type\n",
    "\n",
    "\n",
    "- price = price of the purchase"
   ]
  },
  {
   "cell_type": "markdown",
   "metadata": {},
   "source": [
    "Last update of the SQLite database: 2018-03-17"
   ]
  },
  {
   "cell_type": "markdown",
   "metadata": {},
   "source": [
    "## II) <a id='#second_part'>Conversion Rates</a>\n"
   ]
  },
  {
   "cell_type": "markdown",
   "metadata": {},
   "source": [
    "### A) <a id='#subpart_one_second_part'>Overall Conversion Rate</a>\n"
   ]
  },
  {
   "cell_type": "code",
   "execution_count": 8,
   "metadata": {
    "collapsed": true
   },
   "outputs": [],
   "source": [
    "overall_conversion_rate_query = '''\n",
    "\n",
    "SELECT \n",
    "\n",
    "COUNT(DISTINCT(app_purchase_table.uid)) purchasers,\n",
    "\n",
    "COUNT(DISTINCT(customer_table.uid)) subscribers,\n",
    "\n",
    "CAST((COUNT(DISTINCT(app_purchase_table.uid))) AS FLOAT) / CAST((COUNT(DISTINCT(customer_table.uid))) AS FLOAT) overall_conversion_rate\n",
    "\n",
    "FROM \n",
    "\n",
    "customer_table\n",
    "\n",
    "LEFT JOIN app_purchase_table ON app_purchase_table.uid = customer_table.uid\n",
    "\n",
    ";\n",
    "\n",
    "'''"
   ]
  },
  {
   "cell_type": "code",
   "execution_count": 9,
   "metadata": {},
   "outputs": [
    {
     "data": {
      "text/html": [
       "<div>\n",
       "<style scoped>\n",
       "    .dataframe tbody tr th:only-of-type {\n",
       "        vertical-align: middle;\n",
       "    }\n",
       "\n",
       "    .dataframe tbody tr th {\n",
       "        vertical-align: top;\n",
       "    }\n",
       "\n",
       "    .dataframe thead th {\n",
       "        text-align: right;\n",
       "    }\n",
       "</style>\n",
       "<table border=\"1\" class=\"dataframe\">\n",
       "  <thead>\n",
       "    <tr style=\"text-align: right;\">\n",
       "      <th></th>\n",
       "      <th>purchasers</th>\n",
       "      <th>subscribers</th>\n",
       "      <th>overall_conversion_rate</th>\n",
       "    </tr>\n",
       "  </thead>\n",
       "  <tbody>\n",
       "    <tr>\n",
       "      <th>0</th>\n",
       "      <td>1322</td>\n",
       "      <td>10000</td>\n",
       "      <td>0.1322</td>\n",
       "    </tr>\n",
       "  </tbody>\n",
       "</table>\n",
       "</div>"
      ],
      "text/plain": [
       "   purchasers  subscribers  overall_conversion_rate\n",
       "0        1322        10000                   0.1322"
      ]
     },
     "execution_count": 9,
     "metadata": {},
     "output_type": "execute_result"
    }
   ],
   "source": [
    "run_query(overall_conversion_rate_query)"
   ]
  },
  {
   "cell_type": "markdown",
   "metadata": {},
   "source": [
    "### B) <a id='#subpart_one_second_part'>Conversion Rate at D+28</a>\n"
   ]
  },
  {
   "cell_type": "code",
   "execution_count": 10,
   "metadata": {
    "collapsed": true
   },
   "outputs": [],
   "source": [
    "conversion_rate_at_d28_query = '''\n",
    "\n",
    "WITH transaction_table AS \n",
    "\n",
    "(\n",
    "\n",
    "SELECT \n",
    "\n",
    "app_purchase_table.uid purchaser_id\n",
    "\n",
    "FROM \n",
    "\n",
    "app_purchase_table\n",
    "\n",
    "INNER JOIN customer_table ON customer_table.uid = app_purchase_table.uid\n",
    "\n",
    "WHERE JULIANDAY(customer_table.reg_date) < JULIANDAY(\"2018-03-17\") - 28\n",
    "\n",
    "AND JULIANDAY(app_purchase_table.date) <= JULIANDAY(customer_table.reg_date) + 28\n",
    "\n",
    ")\n",
    "\n",
    "SELECT \n",
    "\n",
    "COUNT(DISTINCT(transaction_table.purchaser_id)) purchasers_day_28,\n",
    "\n",
    "(SELECT\n",
    "\n",
    "COUNT(DISTINCT(customer_table.uid))\n",
    "\n",
    "FROM \n",
    "\n",
    "customer_table\n",
    "\n",
    "WHERE JULIANDAY(customer_table.reg_date) < JULIANDAY(\"2018-03-17\") - 28\n",
    "\n",
    ") subscribers,\n",
    "\n",
    "CAST(COUNT(DISTINCT(transaction_table.purchaser_id)) AS FLOAT) /\n",
    "\n",
    "CAST(\n",
    "\n",
    "(\n",
    "\n",
    "SELECT\n",
    "\n",
    "COUNT(DISTINCT(customer_table.uid))\n",
    "\n",
    "FROM \n",
    "\n",
    "customer_table\n",
    "\n",
    "WHERE JULIANDAY(customer_table.reg_date) < JULIANDAY(\"2018-03-17\") - 28\n",
    "\n",
    ")\n",
    "\n",
    "AS FLOAT) conversion_rate_day_28\n",
    "\n",
    "FROM\n",
    "\n",
    "transaction_table\n",
    "\n",
    ";\n",
    "\n",
    "'''"
   ]
  },
  {
   "cell_type": "code",
   "execution_count": 11,
   "metadata": {},
   "outputs": [
    {
     "data": {
      "text/html": [
       "<div>\n",
       "<style scoped>\n",
       "    .dataframe tbody tr th:only-of-type {\n",
       "        vertical-align: middle;\n",
       "    }\n",
       "\n",
       "    .dataframe tbody tr th {\n",
       "        vertical-align: top;\n",
       "    }\n",
       "\n",
       "    .dataframe thead th {\n",
       "        text-align: right;\n",
       "    }\n",
       "</style>\n",
       "<table border=\"1\" class=\"dataframe\">\n",
       "  <thead>\n",
       "    <tr style=\"text-align: right;\">\n",
       "      <th></th>\n",
       "      <th>purchasers_day_28</th>\n",
       "      <th>subscribers</th>\n",
       "      <th>conversion_rate_day_28</th>\n",
       "    </tr>\n",
       "  </thead>\n",
       "  <tbody>\n",
       "    <tr>\n",
       "      <th>0</th>\n",
       "      <td>470</td>\n",
       "      <td>8741</td>\n",
       "      <td>0.05377</td>\n",
       "    </tr>\n",
       "  </tbody>\n",
       "</table>\n",
       "</div>"
      ],
      "text/plain": [
       "   purchasers_day_28  subscribers  conversion_rate_day_28\n",
       "0                470         8741                 0.05377"
      ]
     },
     "execution_count": 11,
     "metadata": {},
     "output_type": "execute_result"
    }
   ],
   "source": [
    "run_query(conversion_rate_at_d28_query)"
   ]
  },
  {
   "cell_type": "markdown",
   "metadata": {},
   "source": [
    "### C) <a id='#subpart_three_second_part'>Cohort Conversion Rates</a>\n"
   ]
  },
  {
   "cell_type": "markdown",
   "metadata": {},
   "source": [
    "#### 1) <a id='#subsubpart_one_subpart_three_second_part'>Conversion Rates at D+28 by Gender and Device</a>\n"
   ]
  },
  {
   "cell_type": "code",
   "execution_count": 12,
   "metadata": {
    "collapsed": true
   },
   "outputs": [],
   "source": [
    "conversion_rates_d28_by_gender_and_device_query = '''\n",
    "\n",
    "WITH transaction_table AS \n",
    "\n",
    "(\n",
    "\n",
    "SELECT \n",
    "\n",
    "app_purchase_table.uid purchaser_id,\n",
    "\n",
    "customer_table.gender,\n",
    "\n",
    "customer_table.device\n",
    "\n",
    "FROM \n",
    "\n",
    "app_purchase_table\n",
    "\n",
    "INNER JOIN customer_table ON customer_table.uid = app_purchase_table.uid\n",
    "\n",
    "WHERE JULIANDAY(customer_table.reg_date) < JULIANDAY(\"2018-03-17\") - 28\n",
    "\n",
    "AND JULIANDAY(app_purchase_table.date) <= JULIANDAY(customer_table.reg_date) + 28\n",
    "\n",
    "),\n",
    "\n",
    "subscribers_table AS \n",
    "\n",
    "(\n",
    "\n",
    "SELECT\n",
    "\n",
    "customer_table.device device,\n",
    "\n",
    "customer_table.gender gender,\n",
    "\n",
    "COUNT(DISTINCT(customer_table.uid)) subscribers\n",
    "\n",
    "FROM \n",
    "\n",
    "customer_table\n",
    "\n",
    "WHERE JULIANDAY(customer_table.reg_date) < JULIANDAY(\"2018-03-17\") - 28\n",
    "\n",
    "GROUP BY device, gender\n",
    "\n",
    ")\n",
    "\n",
    "SELECT \n",
    "\n",
    "transaction_table.gender gender,\n",
    "\n",
    "transaction_table.device device,\n",
    "\n",
    "COUNT(DISTINCT(transaction_table.purchaser_id)) purchasers_day_28,\n",
    "\n",
    "subscribers_table.subscribers subscribers,\n",
    "\n",
    "CAST(COUNT(DISTINCT(transaction_table.purchaser_id)) AS FLOAT) / CAST(subscribers_table.subscribers AS FLOAT) cohort_conversion_rate_day_28\n",
    "\n",
    "FROM\n",
    "\n",
    "transaction_table\n",
    "\n",
    "INNER JOIN subscribers_table ON subscribers_table.gender = transaction_table.gender AND subscribers_table.device = transaction_table.device\n",
    "\n",
    "GROUP BY transaction_table.gender, transaction_table.device\n",
    "\n",
    ";\n",
    "\n",
    "'''"
   ]
  },
  {
   "cell_type": "code",
   "execution_count": 13,
   "metadata": {},
   "outputs": [
    {
     "data": {
      "text/html": [
       "<div>\n",
       "<style scoped>\n",
       "    .dataframe tbody tr th:only-of-type {\n",
       "        vertical-align: middle;\n",
       "    }\n",
       "\n",
       "    .dataframe tbody tr th {\n",
       "        vertical-align: top;\n",
       "    }\n",
       "\n",
       "    .dataframe thead th {\n",
       "        text-align: right;\n",
       "    }\n",
       "</style>\n",
       "<table border=\"1\" class=\"dataframe\">\n",
       "  <thead>\n",
       "    <tr style=\"text-align: right;\">\n",
       "      <th></th>\n",
       "      <th>gender</th>\n",
       "      <th>device</th>\n",
       "      <th>purchasers_day_28</th>\n",
       "      <th>subscribers</th>\n",
       "      <th>cohort_conversion_rate_day_28</th>\n",
       "    </tr>\n",
       "  </thead>\n",
       "  <tbody>\n",
       "    <tr>\n",
       "      <th>0</th>\n",
       "      <td>F</td>\n",
       "      <td>and</td>\n",
       "      <td>141</td>\n",
       "      <td>2660</td>\n",
       "      <td>0.053008</td>\n",
       "    </tr>\n",
       "    <tr>\n",
       "      <th>1</th>\n",
       "      <td>F</td>\n",
       "      <td>iOS</td>\n",
       "      <td>116</td>\n",
       "      <td>1900</td>\n",
       "      <td>0.061053</td>\n",
       "    </tr>\n",
       "    <tr>\n",
       "      <th>2</th>\n",
       "      <td>M</td>\n",
       "      <td>and</td>\n",
       "      <td>131</td>\n",
       "      <td>2417</td>\n",
       "      <td>0.054199</td>\n",
       "    </tr>\n",
       "    <tr>\n",
       "      <th>3</th>\n",
       "      <td>M</td>\n",
       "      <td>iOS</td>\n",
       "      <td>82</td>\n",
       "      <td>1764</td>\n",
       "      <td>0.046485</td>\n",
       "    </tr>\n",
       "  </tbody>\n",
       "</table>\n",
       "</div>"
      ],
      "text/plain": [
       "  gender device  purchasers_day_28  subscribers  cohort_conversion_rate_day_28\n",
       "0      F    and                141         2660                       0.053008\n",
       "1      F    iOS                116         1900                       0.061053\n",
       "2      M    and                131         2417                       0.054199\n",
       "3      M    iOS                 82         1764                       0.046485"
      ]
     },
     "execution_count": 13,
     "metadata": {},
     "output_type": "execute_result"
    }
   ],
   "source": [
    "run_query(conversion_rates_d28_by_gender_and_device_query)"
   ]
  },
  {
   "cell_type": "markdown",
   "metadata": {},
   "source": [
    "#### 2) <a id='#subsubpart_two_subpart_three_second_part'>Conversion Rates at D+28 by Country</a>\n"
   ]
  },
  {
   "cell_type": "code",
   "execution_count": 14,
   "metadata": {
    "collapsed": true
   },
   "outputs": [],
   "source": [
    "conversion_rates_d28_by_country_query = '''\n",
    "\n",
    "WITH transaction_table AS \n",
    "\n",
    "(\n",
    "\n",
    "SELECT \n",
    "\n",
    "app_purchase_table.uid purchaser_id,\n",
    "\n",
    "customer_table.country\n",
    "\n",
    "FROM \n",
    "\n",
    "app_purchase_table\n",
    "\n",
    "INNER JOIN customer_table ON customer_table.uid = app_purchase_table.uid\n",
    "\n",
    "WHERE JULIANDAY(customer_table.reg_date) < JULIANDAY(\"2018-03-17\") - 28\n",
    "\n",
    "AND JULIANDAY(app_purchase_table.date) <= JULIANDAY(customer_table.reg_date) + 28\n",
    "\n",
    "),\n",
    "\n",
    "subscribers_table AS \n",
    "\n",
    "(\n",
    "\n",
    "SELECT\n",
    "\n",
    "customer_table.country country,\n",
    "\n",
    "COUNT(DISTINCT(customer_table.uid)) subscribers\n",
    "\n",
    "FROM \n",
    "\n",
    "customer_table\n",
    "\n",
    "WHERE JULIANDAY(customer_table.reg_date) < JULIANDAY(\"2018-03-17\") - 28\n",
    "\n",
    "GROUP BY country\n",
    "\n",
    ")\n",
    "\n",
    "SELECT \n",
    "\n",
    "transaction_table.country country,\n",
    "\n",
    "COUNT(DISTINCT(transaction_table.purchaser_id)) purchasers_day_28,\n",
    "\n",
    "subscribers_table.subscribers subscribers,\n",
    "\n",
    "CAST(COUNT(DISTINCT(transaction_table.purchaser_id)) AS FLOAT) / CAST(subscribers_table.subscribers AS FLOAT) cohort_conversion_rate_day_28\n",
    "\n",
    "FROM\n",
    "\n",
    "transaction_table\n",
    "\n",
    "INNER JOIN subscribers_table ON subscribers_table.country = transaction_table.country\n",
    "\n",
    "GROUP BY transaction_table.country\n",
    "\n",
    ";\n",
    "\n",
    "'''"
   ]
  },
  {
   "cell_type": "code",
   "execution_count": 15,
   "metadata": {},
   "outputs": [
    {
     "data": {
      "text/html": [
       "<div>\n",
       "<style scoped>\n",
       "    .dataframe tbody tr th:only-of-type {\n",
       "        vertical-align: middle;\n",
       "    }\n",
       "\n",
       "    .dataframe tbody tr th {\n",
       "        vertical-align: top;\n",
       "    }\n",
       "\n",
       "    .dataframe thead th {\n",
       "        text-align: right;\n",
       "    }\n",
       "</style>\n",
       "<table border=\"1\" class=\"dataframe\">\n",
       "  <thead>\n",
       "    <tr style=\"text-align: right;\">\n",
       "      <th></th>\n",
       "      <th>country</th>\n",
       "      <th>purchasers_day_28</th>\n",
       "      <th>subscribers</th>\n",
       "      <th>cohort_conversion_rate_day_28</th>\n",
       "    </tr>\n",
       "  </thead>\n",
       "  <tbody>\n",
       "    <tr>\n",
       "      <th>0</th>\n",
       "      <td>BRA</td>\n",
       "      <td>148</td>\n",
       "      <td>2323</td>\n",
       "      <td>0.063711</td>\n",
       "    </tr>\n",
       "    <tr>\n",
       "      <th>1</th>\n",
       "      <td>CAN</td>\n",
       "      <td>17</td>\n",
       "      <td>428</td>\n",
       "      <td>0.039720</td>\n",
       "    </tr>\n",
       "    <tr>\n",
       "      <th>2</th>\n",
       "      <td>DEU</td>\n",
       "      <td>41</td>\n",
       "      <td>895</td>\n",
       "      <td>0.045810</td>\n",
       "    </tr>\n",
       "    <tr>\n",
       "      <th>3</th>\n",
       "      <td>FRA</td>\n",
       "      <td>36</td>\n",
       "      <td>635</td>\n",
       "      <td>0.056693</td>\n",
       "    </tr>\n",
       "    <tr>\n",
       "      <th>4</th>\n",
       "      <td>TUR</td>\n",
       "      <td>48</td>\n",
       "      <td>868</td>\n",
       "      <td>0.055300</td>\n",
       "    </tr>\n",
       "    <tr>\n",
       "      <th>5</th>\n",
       "      <td>USA</td>\n",
       "      <td>180</td>\n",
       "      <td>3592</td>\n",
       "      <td>0.050111</td>\n",
       "    </tr>\n",
       "  </tbody>\n",
       "</table>\n",
       "</div>"
      ],
      "text/plain": [
       "  country  purchasers_day_28  subscribers  cohort_conversion_rate_day_28\n",
       "0     BRA                148         2323                       0.063711\n",
       "1     CAN                 17          428                       0.039720\n",
       "2     DEU                 41          895                       0.045810\n",
       "3     FRA                 36          635                       0.056693\n",
       "4     TUR                 48          868                       0.055300\n",
       "5     USA                180         3592                       0.050111"
      ]
     },
     "execution_count": 15,
     "metadata": {},
     "output_type": "execute_result"
    }
   ],
   "source": [
    "run_query(conversion_rates_d28_by_country_query)"
   ]
  },
  {
   "cell_type": "markdown",
   "metadata": {},
   "source": [
    "## III) <a id='#third_part'>Average Purchase Prices</a>\n"
   ]
  },
  {
   "cell_type": "markdown",
   "metadata": {},
   "source": [
    "### A) <a id='#subpart_one_third_part'>Overall Average Purchase Price</a>\n"
   ]
  },
  {
   "cell_type": "code",
   "execution_count": 19,
   "metadata": {
    "collapsed": true
   },
   "outputs": [],
   "source": [
    "overall_average_purchase_price_query = '''\n",
    "\n",
    "SELECT \n",
    "\n",
    "CAST(SUM(app_purchase_table.price) AS FLOAT) / CAST(COUNT(app_purchase_table.uid) AS FLOAT) overall_average_purchase_price\n",
    "\n",
    "FROM\n",
    "\n",
    "app_purchase_table\n",
    "\n",
    ";\n",
    "\n",
    "'''"
   ]
  },
  {
   "cell_type": "code",
   "execution_count": 20,
   "metadata": {},
   "outputs": [
    {
     "data": {
      "text/html": [
       "<div>\n",
       "<style scoped>\n",
       "    .dataframe tbody tr th:only-of-type {\n",
       "        vertical-align: middle;\n",
       "    }\n",
       "\n",
       "    .dataframe tbody tr th {\n",
       "        vertical-align: top;\n",
       "    }\n",
       "\n",
       "    .dataframe thead th {\n",
       "        text-align: right;\n",
       "    }\n",
       "</style>\n",
       "<table border=\"1\" class=\"dataframe\">\n",
       "  <thead>\n",
       "    <tr style=\"text-align: right;\">\n",
       "      <th></th>\n",
       "      <th>overall_average_purchase_price</th>\n",
       "    </tr>\n",
       "  </thead>\n",
       "  <tbody>\n",
       "    <tr>\n",
       "      <th>0</th>\n",
       "      <td>406.772596</td>\n",
       "    </tr>\n",
       "  </tbody>\n",
       "</table>\n",
       "</div>"
      ],
      "text/plain": [
       "   overall_average_purchase_price\n",
       "0                      406.772596"
      ]
     },
     "execution_count": 20,
     "metadata": {},
     "output_type": "execute_result"
    }
   ],
   "source": [
    "run_query(overall_average_purchase_price_query)"
   ]
  },
  {
   "cell_type": "markdown",
   "metadata": {},
   "source": [
    "### B) <a id='#subpart_two_third_part'>Average Purchase Price at D+28</a>\n"
   ]
  },
  {
   "cell_type": "code",
   "execution_count": 23,
   "metadata": {
    "collapsed": true
   },
   "outputs": [],
   "source": [
    "average_purchase_price_at_d28_query = '''\n",
    "\n",
    "WITH transaction_table AS \n",
    "\n",
    "(\n",
    "\n",
    "SELECT \n",
    "\n",
    "app_purchase_table.uid uid,\n",
    "\n",
    "app_purchase_table.price price\n",
    "\n",
    "FROM \n",
    "\n",
    "app_purchase_table\n",
    "\n",
    "INNER JOIN customer_table ON customer_table.uid = app_purchase_table.uid\n",
    "\n",
    "WHERE JULIANDAY(customer_table.reg_date) < JULIANDAY(\"2018-03-17\") - 28\n",
    "\n",
    "AND JULIANDAY(app_purchase_table.date) <= JULIANDAY(customer_table.reg_date) + 28\n",
    "\n",
    ")\n",
    "\n",
    "SELECT \n",
    "\n",
    "CAST(SUM(transaction_table.price) AS FLOAT) / CAST(COUNT(transaction_table.uid) AS FLOAT) average_purchase_price_day_28\n",
    "\n",
    "FROM\n",
    "\n",
    "transaction_table\n",
    "\n",
    ";\n",
    "\n",
    "'''"
   ]
  },
  {
   "cell_type": "code",
   "execution_count": 24,
   "metadata": {},
   "outputs": [
    {
     "data": {
      "text/html": [
       "<div>\n",
       "<style scoped>\n",
       "    .dataframe tbody tr th:only-of-type {\n",
       "        vertical-align: middle;\n",
       "    }\n",
       "\n",
       "    .dataframe tbody tr th {\n",
       "        vertical-align: top;\n",
       "    }\n",
       "\n",
       "    .dataframe thead th {\n",
       "        text-align: right;\n",
       "    }\n",
       "</style>\n",
       "<table border=\"1\" class=\"dataframe\">\n",
       "  <thead>\n",
       "    <tr style=\"text-align: right;\">\n",
       "      <th></th>\n",
       "      <th>average_purchase_price_day_28</th>\n",
       "    </tr>\n",
       "  </thead>\n",
       "  <tbody>\n",
       "    <tr>\n",
       "      <th>0</th>\n",
       "      <td>414.423729</td>\n",
       "    </tr>\n",
       "  </tbody>\n",
       "</table>\n",
       "</div>"
      ],
      "text/plain": [
       "   average_purchase_price_day_28\n",
       "0                     414.423729"
      ]
     },
     "execution_count": 24,
     "metadata": {},
     "output_type": "execute_result"
    }
   ],
   "source": [
    "run_query(average_purchase_price_at_d28_query)"
   ]
  },
  {
   "cell_type": "markdown",
   "metadata": {},
   "source": [
    "### C) <a id='#subpart_three_third_part'>Cohort Average Purchase Prices</a>\n"
   ]
  },
  {
   "cell_type": "markdown",
   "metadata": {},
   "source": [
    "#### 1) <a id='#subsubpart_one_subpart_three_third_part'>Average Purchase Prices at D+28 by Gender and Device</a>\n"
   ]
  },
  {
   "cell_type": "code",
   "execution_count": 27,
   "metadata": {
    "collapsed": true
   },
   "outputs": [],
   "source": [
    "average_purchase_prices_at_d28_by_gender_and_device_query = '''\n",
    "\n",
    "WITH transaction_table AS \n",
    "\n",
    "(\n",
    "\n",
    "SELECT \n",
    "\n",
    "app_purchase_table.uid uid,\n",
    "\n",
    "customer_table.gender gender,\n",
    "\n",
    "customer_table.device device,\n",
    "\n",
    "app_purchase_table.price price\n",
    "\n",
    "FROM \n",
    "\n",
    "app_purchase_table\n",
    "\n",
    "INNER JOIN customer_table ON customer_table.uid = app_purchase_table.uid\n",
    "\n",
    "WHERE JULIANDAY(customer_table.reg_date) < JULIANDAY(\"2018-03-17\") - 28\n",
    "\n",
    "AND JULIANDAY(app_purchase_table.date) <= JULIANDAY(customer_table.reg_date) + 28\n",
    "\n",
    ")\n",
    "\n",
    "SELECT \n",
    "\n",
    "transaction_table.gender gender,\n",
    "\n",
    "transaction_table.device device,\n",
    "\n",
    "CAST(SUM(transaction_table.price) AS FLOAT) / CAST(COUNT(transaction_table.uid) AS FLOAT) average_purchase_price_day_28\n",
    "\n",
    "FROM\n",
    "\n",
    "transaction_table\n",
    "\n",
    "GROUP BY gender, device\n",
    "\n",
    ";\n",
    "\n",
    "'''"
   ]
  },
  {
   "cell_type": "code",
   "execution_count": 28,
   "metadata": {},
   "outputs": [
    {
     "data": {
      "text/html": [
       "<div>\n",
       "<style scoped>\n",
       "    .dataframe tbody tr th:only-of-type {\n",
       "        vertical-align: middle;\n",
       "    }\n",
       "\n",
       "    .dataframe tbody tr th {\n",
       "        vertical-align: top;\n",
       "    }\n",
       "\n",
       "    .dataframe thead th {\n",
       "        text-align: right;\n",
       "    }\n",
       "</style>\n",
       "<table border=\"1\" class=\"dataframe\">\n",
       "  <thead>\n",
       "    <tr style=\"text-align: right;\">\n",
       "      <th></th>\n",
       "      <th>gender</th>\n",
       "      <th>device</th>\n",
       "      <th>average_purchase_price_day_28</th>\n",
       "    </tr>\n",
       "  </thead>\n",
       "  <tbody>\n",
       "    <tr>\n",
       "      <th>0</th>\n",
       "      <td>F</td>\n",
       "      <td>and</td>\n",
       "      <td>387.826816</td>\n",
       "    </tr>\n",
       "    <tr>\n",
       "      <th>1</th>\n",
       "      <td>F</td>\n",
       "      <td>iOS</td>\n",
       "      <td>435.567164</td>\n",
       "    </tr>\n",
       "    <tr>\n",
       "      <th>2</th>\n",
       "      <td>M</td>\n",
       "      <td>and</td>\n",
       "      <td>413.534884</td>\n",
       "    </tr>\n",
       "    <tr>\n",
       "      <th>3</th>\n",
       "      <td>M</td>\n",
       "      <td>iOS</td>\n",
       "      <td>434.238095</td>\n",
       "    </tr>\n",
       "  </tbody>\n",
       "</table>\n",
       "</div>"
      ],
      "text/plain": [
       "  gender device  average_purchase_price_day_28\n",
       "0      F    and                     387.826816\n",
       "1      F    iOS                     435.567164\n",
       "2      M    and                     413.534884\n",
       "3      M    iOS                     434.238095"
      ]
     },
     "execution_count": 28,
     "metadata": {},
     "output_type": "execute_result"
    }
   ],
   "source": [
    "run_query(average_purchase_prices_at_d28_by_gender_and_device_query)"
   ]
  },
  {
   "cell_type": "markdown",
   "metadata": {},
   "source": [
    "#### 2) <a id='#subsubpart_two_subpart_three_third_part'>Average Purchase Prices at D+28 by Country</a>"
   ]
  },
  {
   "cell_type": "code",
   "execution_count": 32,
   "metadata": {
    "collapsed": true
   },
   "outputs": [],
   "source": [
    "average_purchase_prices_at_d28_by_country_query = '''\n",
    "\n",
    "WITH transaction_table AS \n",
    "\n",
    "(\n",
    "\n",
    "SELECT \n",
    "\n",
    "app_purchase_table.uid uid,\n",
    "\n",
    "customer_table.country country,\n",
    "\n",
    "app_purchase_table.price price\n",
    "\n",
    "FROM \n",
    "\n",
    "app_purchase_table\n",
    "\n",
    "INNER JOIN customer_table ON customer_table.uid = app_purchase_table.uid\n",
    "\n",
    "WHERE JULIANDAY(customer_table.reg_date) < JULIANDAY(\"2018-03-17\") - 28\n",
    "\n",
    "AND JULIANDAY(app_purchase_table.date) <= JULIANDAY(customer_table.reg_date) + 28\n",
    "\n",
    ")\n",
    "\n",
    "SELECT \n",
    "\n",
    "transaction_table.country country,\n",
    "\n",
    "CAST(SUM(transaction_table.price) AS FLOAT) / CAST(COUNT(transaction_table.uid) AS FLOAT) average_purchase_price_day_28\n",
    "\n",
    "FROM\n",
    "\n",
    "transaction_table\n",
    "\n",
    "GROUP BY country\n",
    "\n",
    ";\n",
    "\n",
    "'''"
   ]
  },
  {
   "cell_type": "code",
   "execution_count": 33,
   "metadata": {},
   "outputs": [
    {
     "data": {
      "text/html": [
       "<div>\n",
       "<style scoped>\n",
       "    .dataframe tbody tr th:only-of-type {\n",
       "        vertical-align: middle;\n",
       "    }\n",
       "\n",
       "    .dataframe tbody tr th {\n",
       "        vertical-align: top;\n",
       "    }\n",
       "\n",
       "    .dataframe thead th {\n",
       "        text-align: right;\n",
       "    }\n",
       "</style>\n",
       "<table border=\"1\" class=\"dataframe\">\n",
       "  <thead>\n",
       "    <tr style=\"text-align: right;\">\n",
       "      <th></th>\n",
       "      <th>country</th>\n",
       "      <th>average_purchase_price_day_28</th>\n",
       "    </tr>\n",
       "  </thead>\n",
       "  <tbody>\n",
       "    <tr>\n",
       "      <th>0</th>\n",
       "      <td>BRA</td>\n",
       "      <td>425.903553</td>\n",
       "    </tr>\n",
       "    <tr>\n",
       "      <th>1</th>\n",
       "      <td>CAN</td>\n",
       "      <td>354.000000</td>\n",
       "    </tr>\n",
       "    <tr>\n",
       "      <th>2</th>\n",
       "      <td>DEU</td>\n",
       "      <td>435.538462</td>\n",
       "    </tr>\n",
       "    <tr>\n",
       "      <th>3</th>\n",
       "      <td>FRA</td>\n",
       "      <td>427.571429</td>\n",
       "    </tr>\n",
       "    <tr>\n",
       "      <th>4</th>\n",
       "      <td>TUR</td>\n",
       "      <td>447.333333</td>\n",
       "    </tr>\n",
       "    <tr>\n",
       "      <th>5</th>\n",
       "      <td>USA</td>\n",
       "      <td>393.063927</td>\n",
       "    </tr>\n",
       "  </tbody>\n",
       "</table>\n",
       "</div>"
      ],
      "text/plain": [
       "  country  average_purchase_price_day_28\n",
       "0     BRA                     425.903553\n",
       "1     CAN                     354.000000\n",
       "2     DEU                     435.538462\n",
       "3     FRA                     427.571429\n",
       "4     TUR                     447.333333\n",
       "5     USA                     393.063927"
      ]
     },
     "execution_count": 33,
     "metadata": {},
     "output_type": "execute_result"
    }
   ],
   "source": [
    "run_query(average_purchase_prices_at_d28_by_country_query)"
   ]
  }
 ],
 "metadata": {
  "kernelspec": {
   "display_name": "Python 3",
   "language": "python",
   "name": "python3"
  },
  "language_info": {
   "codemirror_mode": {
    "name": "ipython",
    "version": 3
   },
   "file_extension": ".py",
   "mimetype": "text/x-python",
   "name": "python",
   "nbconvert_exporter": "python",
   "pygments_lexer": "ipython3",
   "version": "3.6.3"
  }
 },
 "nbformat": 4,
 "nbformat_minor": 2
}
